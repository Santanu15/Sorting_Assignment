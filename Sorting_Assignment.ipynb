{
 "cells": [
  {
   "cell_type": "code",
   "execution_count": null,
   "id": "8e7541ee-d19d-4eda-999f-038acd3b2811",
   "metadata": {},
   "outputs": [],
   "source": []
  },
  {
   "cell_type": "code",
   "execution_count": 8,
   "id": "8c14a63a-ec92-4df8-b6ca-220dcfa85b6e",
   "metadata": {},
   "outputs": [],
   "source": [
    "#1. Given an array of n numbers, give an algorithm which gives the element appearing maximum number of times."
   ]
  },
  {
   "cell_type": "code",
   "execution_count": 9,
   "id": "b7fcaf63-31e1-435f-9702-bcf1197751b8",
   "metadata": {},
   "outputs": [
    {
     "name": "stdout",
     "output_type": "stream",
     "text": [
      "3\n"
     ]
    }
   ],
   "source": [
    " \n",
    "def Max_Num(arr):\n",
    "    count={}\n",
    "    \n",
    "    for i in arr:\n",
    "        if i in count:\n",
    "            count[i]+=1\n",
    "            \n",
    "        else:\n",
    "            count[i]=1\n",
    "            \n",
    "            \n",
    "    max_count=0\n",
    "    common_element=None\n",
    "    \n",
    "    for i,c in count.items():\n",
    "        if c>max_count:\n",
    "            max_count=c\n",
    "            common_element=i\n",
    "    \n",
    "    return common_element\n",
    "\n",
    "\n",
    "\n",
    "arr=[1,2,3,3,2,3,2,3,5,3,6]\n",
    "print(Max_Num(arr))\n"
   ]
  },
  {
   "cell_type": "code",
   "execution_count": null,
   "id": "9ba0c9e3-9a15-403c-8067-8fe83409bbfb",
   "metadata": {},
   "outputs": [],
   "source": []
  },
  {
   "cell_type": "code",
   "execution_count": 10,
   "id": "0bb82151-c293-440f-8acd-57ef1cae5257",
   "metadata": {},
   "outputs": [],
   "source": [
    "#2 : We are given a list of n-1 integers and these integers are in the range of 1 to n . There are no duplicates in the list. One of the integers is missing in the list. Give an algorithm to find that element Ex: [1,2,4,6,3,7,8] 5 is the missing num."
   ]
  },
  {
   "cell_type": "code",
   "execution_count": 11,
   "id": "75b49c16-5318-4b0e-90bf-0931df9abcd7",
   "metadata": {},
   "outputs": [
    {
     "name": "stdout",
     "output_type": "stream",
     "text": [
      "5\n"
     ]
    }
   ],
   "source": [
    "\n",
    "def missing_num(arr,n):\n",
    "    total=n*(n+1)//2\n",
    "    arr_sum=sum(arr)\n",
    "    missing_element=(total)-(arr_sum)\n",
    "    return missing_element\n",
    "\n",
    "arr=[1,2,4,6,3,7,8]\n",
    "n=len(arr)+1\n",
    "print(missing_num(arr,n))"
   ]
  },
  {
   "cell_type": "code",
   "execution_count": null,
   "id": "86a50bfa-cf13-4c51-aa96-9b9557246ae9",
   "metadata": {},
   "outputs": [],
   "source": []
  },
  {
   "cell_type": "code",
   "execution_count": 17,
   "id": "043ceca5-cb2f-4f36-8d46-5e77e0f78398",
   "metadata": {},
   "outputs": [],
   "source": [
    "#3 : Given an array of n elements. Find two elements in the array such that their sum is equal to given element K."
   ]
  },
  {
   "cell_type": "code",
   "execution_count": 18,
   "id": "b31b17df-9955-4957-8dd9-f3392687f132",
   "metadata": {},
   "outputs": [
    {
     "name": "stdout",
     "output_type": "stream",
     "text": [
      "(6, 4)\n"
     ]
    }
   ],
   "source": [
    "\n",
    "def find_element(arr,k):\n",
    "    seen=set()\n",
    "    \n",
    "    for i in arr:\n",
    "        diff=k-i\n",
    "        \n",
    "        if diff in seen:\n",
    "            return i,diff\n",
    "        \n",
    "        seen.add(i)\n",
    "        \n",
    "        \n",
    "    return None\n",
    "\n",
    "\n",
    "arr=[1,2,3,4,5,6,7]\n",
    "k=10\n",
    "print(find_element(arr,k))"
   ]
  },
  {
   "cell_type": "code",
   "execution_count": null,
   "id": "d3323dfe-d246-418c-8ced-0835f48bc7e4",
   "metadata": {},
   "outputs": [],
   "source": []
  },
  {
   "cell_type": "code",
   "execution_count": 20,
   "id": "9d0dba4e-0cef-4441-af45-25954ba6eb12",
   "metadata": {},
   "outputs": [],
   "source": [
    "#4 : Given an array of n elements . Find three elements such that their sum is equal to the given number."
   ]
  },
  {
   "cell_type": "code",
   "execution_count": 22,
   "id": "9519d78b-7e70-48c0-b24f-480088633a7c",
   "metadata": {},
   "outputs": [
    {
     "name": "stdout",
     "output_type": "stream",
     "text": [
      "[(1, 2, 4)]\n"
     ]
    }
   ],
   "source": [
    "\n",
    "def function(arr,num):\n",
    "    n=len(arr)\n",
    "    result=[]\n",
    "    \n",
    "    for i in range(n-2):\n",
    "        for j in range(i+1,n-1):\n",
    "            for k in range(j+1,n):\n",
    "                \n",
    "                if arr[i]+arr[j]+arr[k]==num:\n",
    "                    result.append((arr[i],arr[j],arr[k]))\n",
    "                    \n",
    "                    return result\n",
    "                \n",
    "arr=[1,2,3,4,5]\n",
    "num=7\n",
    "print(function(arr,num))\n",
    "    "
   ]
  },
  {
   "cell_type": "code",
   "execution_count": null,
   "id": "88e0b518-57ab-4634-914f-796c094cdcd9",
   "metadata": {},
   "outputs": [],
   "source": []
  },
  {
   "cell_type": "code",
   "execution_count": null,
   "id": "2ccc27c8-d91e-44cb-884b-452939308c38",
   "metadata": {},
   "outputs": [],
   "source": []
  },
  {
   "cell_type": "code",
   "execution_count": null,
   "id": "2ecac620-91c8-4907-b088-a5773a835152",
   "metadata": {},
   "outputs": [],
   "source": []
  },
  {
   "cell_type": "code",
   "execution_count": null,
   "id": "53d4dd76-b632-4053-88f3-bb42af9f6bd7",
   "metadata": {},
   "outputs": [],
   "source": []
  },
  {
   "cell_type": "code",
   "execution_count": null,
   "id": "b4f6988c-27d7-497d-be1d-298dd296705d",
   "metadata": {},
   "outputs": [],
   "source": []
  },
  {
   "cell_type": "code",
   "execution_count": null,
   "id": "7eaa018b-be51-4167-80e2-b23215899563",
   "metadata": {},
   "outputs": [],
   "source": []
  },
  {
   "cell_type": "code",
   "execution_count": null,
   "id": "95e4365b-15a9-4dee-9c6f-ed69a8a775db",
   "metadata": {},
   "outputs": [],
   "source": []
  },
  {
   "cell_type": "code",
   "execution_count": null,
   "id": "0fa42779-91c8-4649-9ac6-35de8cc47fc3",
   "metadata": {},
   "outputs": [],
   "source": []
  },
  {
   "cell_type": "code",
   "execution_count": null,
   "id": "61763b26-fd83-47c0-ad78-732057239d17",
   "metadata": {},
   "outputs": [],
   "source": []
  }
 ],
 "metadata": {
  "kernelspec": {
   "display_name": "Python 3 (ipykernel)",
   "language": "python",
   "name": "python3"
  },
  "language_info": {
   "codemirror_mode": {
    "name": "ipython",
    "version": 3
   },
   "file_extension": ".py",
   "mimetype": "text/x-python",
   "name": "python",
   "nbconvert_exporter": "python",
   "pygments_lexer": "ipython3",
   "version": "3.10.8"
  }
 },
 "nbformat": 4,
 "nbformat_minor": 5
}
